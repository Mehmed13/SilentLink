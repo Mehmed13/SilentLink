{
  "nbformat": 4,
  "nbformat_minor": 0,
  "metadata": {
    "colab": {
      "provenance": [],
      "gpuType": "T4"
    },
    "kernelspec": {
      "name": "python3",
      "display_name": "Python 3"
    },
    "language_info": {
      "name": "python"
    },
    "accelerator": "GPU"
  },
  "cells": [
    {
      "cell_type": "markdown",
      "source": [
        "# Generative AI"
      ],
      "metadata": {
        "id": "UpY4CpXh0otD"
      }
    },
    {
      "cell_type": "code",
      "source": [
        "!pip install groq"
      ],
      "metadata": {
        "colab": {
          "base_uri": "https://localhost:8080/"
        },
        "id": "TspqWfXtVZHc",
        "outputId": "09597222-46f1-4b11-bd3d-960491f1d4f4"
      },
      "execution_count": 1,
      "outputs": [
        {
          "output_type": "stream",
          "name": "stdout",
          "text": [
            "Collecting groq\n",
            "  Downloading groq-0.13.0-py3-none-any.whl.metadata (13 kB)\n",
            "Requirement already satisfied: anyio<5,>=3.5.0 in /usr/local/lib/python3.10/dist-packages (from groq) (3.7.1)\n",
            "Requirement already satisfied: distro<2,>=1.7.0 in /usr/local/lib/python3.10/dist-packages (from groq) (1.9.0)\n",
            "Requirement already satisfied: httpx<1,>=0.23.0 in /usr/local/lib/python3.10/dist-packages (from groq) (0.28.0)\n",
            "Requirement already satisfied: pydantic<3,>=1.9.0 in /usr/local/lib/python3.10/dist-packages (from groq) (2.10.3)\n",
            "Requirement already satisfied: sniffio in /usr/local/lib/python3.10/dist-packages (from groq) (1.3.1)\n",
            "Requirement already satisfied: typing-extensions<5,>=4.7 in /usr/local/lib/python3.10/dist-packages (from groq) (4.12.2)\n",
            "Requirement already satisfied: idna>=2.8 in /usr/local/lib/python3.10/dist-packages (from anyio<5,>=3.5.0->groq) (3.10)\n",
            "Requirement already satisfied: exceptiongroup in /usr/local/lib/python3.10/dist-packages (from anyio<5,>=3.5.0->groq) (1.2.2)\n",
            "Requirement already satisfied: certifi in /usr/local/lib/python3.10/dist-packages (from httpx<1,>=0.23.0->groq) (2024.8.30)\n",
            "Requirement already satisfied: httpcore==1.* in /usr/local/lib/python3.10/dist-packages (from httpx<1,>=0.23.0->groq) (1.0.7)\n",
            "Requirement already satisfied: h11<0.15,>=0.13 in /usr/local/lib/python3.10/dist-packages (from httpcore==1.*->httpx<1,>=0.23.0->groq) (0.14.0)\n",
            "Requirement already satisfied: annotated-types>=0.6.0 in /usr/local/lib/python3.10/dist-packages (from pydantic<3,>=1.9.0->groq) (0.7.0)\n",
            "Requirement already satisfied: pydantic-core==2.27.1 in /usr/local/lib/python3.10/dist-packages (from pydantic<3,>=1.9.0->groq) (2.27.1)\n",
            "Downloading groq-0.13.0-py3-none-any.whl (108 kB)\n",
            "\u001b[2K   \u001b[90m━━━━━━━━━━━━━━━━━━━━━━━━━━━━━━━━━━━━━━━━\u001b[0m \u001b[32m108.8/108.8 kB\u001b[0m \u001b[31m3.5 MB/s\u001b[0m eta \u001b[36m0:00:00\u001b[0m\n",
            "\u001b[?25hInstalling collected packages: groq\n",
            "Successfully installed groq-0.13.0\n"
          ]
        }
      ]
    },
    {
      "cell_type": "code",
      "source": [
        "from google.colab import userdata\n",
        "\n",
        "API_KEY = userdata.get(\"GROQ_API_KEY\")"
      ],
      "metadata": {
        "id": "sG4cJ4TGU5VQ"
      },
      "execution_count": 2,
      "outputs": []
    },
    {
      "cell_type": "code",
      "source": [
        "from groq import Groq\n",
        "\n",
        "client = Groq(\n",
        "    api_key=API_KEY\n",
        ")\n",
        "\n",
        "def hit_groq(base_word, groq_model):\n",
        "  chat_completion = client.chat.completions.create(\n",
        "      messages=[\n",
        "          {\n",
        "              \"role\": \"system\",\n",
        "              \"content\": \"you are a linguist that try to make a full coherent sentence out of list of basic words\"\n",
        "          },\n",
        "          {\n",
        "              \"role\": \"user\",\n",
        "              \"content\": f\"\"\"Please create a full coherent sentence out of this words, the order of the word that appear in the sentence have to be in sequence just like how the word appeared in the list.\n",
        "                            please just output the word without any other text. you can add punctuation to the generated sentence to make the sentence more natural. here are the words: [{base_word}]\"\"\",\n",
        "          }\n",
        "      ],\n",
        "      model=groq_model,\n",
        "      temperature=0.5,\n",
        "      max_tokens=1024,\n",
        "      top_p=1,\n",
        "      stop=None,\n",
        "      stream=False,\n",
        "  )\n",
        "  return chat_completion.choices[0].message.content"
      ],
      "metadata": {
        "id": "ONA2JAKkVOxD"
      },
      "execution_count": 3,
      "outputs": []
    },
    {
      "cell_type": "code",
      "source": [
        "# Function to compute Exact Match (EM) and F1 score\n",
        "def exact_match(predicted, ground_truth):\n",
        "    return 1 if predicted.lower() == ground_truth.lower() else 0\n",
        "\n",
        "def compute_f1(predicted, ground_truth):\n",
        "    predicted_tokens = set(predicted.lower().split())\n",
        "    ground_truth_tokens = set(ground_truth.lower().split())\n",
        "\n",
        "    common = predicted_tokens.intersection(ground_truth_tokens)\n",
        "    if len(common) == 0:\n",
        "        return 0, 0, 0\n",
        "\n",
        "    precision = len(common) / len(predicted_tokens)\n",
        "    recall = len(common) / len(ground_truth_tokens)\n",
        "    f1 = (2 * precision * recall) / (precision + recall)\n",
        "    return precision, recall, f1"
      ],
      "metadata": {
        "id": "J_uHsAT1kpWv"
      },
      "execution_count": 4,
      "outputs": []
    },
    {
      "cell_type": "code",
      "source": [
        "import pandas as pd\n",
        "from tqdm import tqdm\n",
        "df = pd.read_csv('seq2seq_data.csv')\n",
        "\n",
        "def evaluate_model(dataset, groq_model):\n",
        "  input_base_word = dataset['base_word_text']\n",
        "  ground_truth = dataset['original_text']\n",
        "  predicted = []\n",
        "  for base_word in tqdm(input_base_word):\n",
        "    result = hit_groq(base_word, groq_model)\n",
        "    predicted.append(str(result))\n",
        "\n",
        "  exact_match_scores = [exact_match(pred, gt) for pred, gt in zip(predicted, ground_truth)]\n",
        "  exact_match_result = sum(exact_match_scores) / len(exact_match_scores)\n",
        "\n",
        "  f1_scores = [compute_f1(pred, gt) for pred, gt in zip(predicted, ground_truth)]\n",
        "  precision_scores = [score[0] for score in f1_scores]\n",
        "  recall_scores = [score[1] for score in f1_scores]\n",
        "  f1_scores = [score[2] for score in f1_scores]\n",
        "\n",
        "  precision_result = sum(precision_scores) / len(precision_scores)\n",
        "  recall_result = sum(recall_scores) / len(recall_scores)\n",
        "  f1_result = sum(f1_scores) / len(f1_scores)\n",
        "\n",
        "  print(f\"Exact Match: {exact_match_result}\")\n",
        "  print(f\"Precision: {precision_result}\")\n",
        "  print(f\"Recall: {recall_result}\")\n",
        "  print(f\"F1 Score: {f1_result}\")"
      ],
      "metadata": {
        "id": "HjppmGUylNzN"
      },
      "execution_count": 9,
      "outputs": []
    },
    {
      "cell_type": "code",
      "source": [
        "# use 300 random sample from the data to test the model\n",
        "data = df.sample(n=300)"
      ],
      "metadata": {
        "id": "-xCOH7xWE_J1"
      },
      "execution_count": 10,
      "outputs": []
    },
    {
      "cell_type": "markdown",
      "source": [
        "## llama-3.2-90b-vision-preview"
      ],
      "metadata": {
        "id": "uE5PRpGfEeNu"
      }
    },
    {
      "cell_type": "code",
      "source": [
        "evaluate_model(data, \"llama-3.2-90b-vision-preview\")"
      ],
      "metadata": {
        "colab": {
          "base_uri": "https://localhost:8080/"
        },
        "id": "yhV4FfTwyXVw",
        "outputId": "87839631-579d-49f8-a460-80e3c1b82c2f"
      },
      "execution_count": 11,
      "outputs": [
        {
          "output_type": "stream",
          "name": "stderr",
          "text": [
            "100%|██████████| 300/300 [21:01<00:00,  4.20s/it]"
          ]
        },
        {
          "output_type": "stream",
          "name": "stdout",
          "text": [
            "Exact Match: 0.006666666666666667\n",
            "Precision: 0.7677154171084541\n",
            "Recall: 0.7207894314245613\n",
            "F1 Score: 0.7394824268380005\n"
          ]
        },
        {
          "output_type": "stream",
          "name": "stderr",
          "text": [
            "\n"
          ]
        }
      ]
    },
    {
      "cell_type": "markdown",
      "source": [
        "## llama-3.1-8b-instant"
      ],
      "metadata": {
        "id": "IJkai6iMEkTh"
      }
    },
    {
      "cell_type": "code",
      "source": [
        "evaluate_model(data, \"llama-3.1-8b-instant\")"
      ],
      "metadata": {
        "colab": {
          "base_uri": "https://localhost:8080/"
        },
        "id": "rwaF8VSQFKDt",
        "outputId": "6d9fba07-fd2c-41b3-ef18-6779770897b4"
      },
      "execution_count": 12,
      "outputs": [
        {
          "output_type": "stream",
          "name": "stderr",
          "text": [
            "100%|██████████| 300/300 [10:52<00:00,  2.18s/it]"
          ]
        },
        {
          "output_type": "stream",
          "name": "stdout",
          "text": [
            "Exact Match: 0.01\n",
            "Precision: 0.7061126963695972\n",
            "Recall: 0.6831324739330482\n",
            "F1 Score: 0.6895524043326703\n"
          ]
        },
        {
          "output_type": "stream",
          "name": "stderr",
          "text": [
            "\n"
          ]
        }
      ]
    },
    {
      "cell_type": "markdown",
      "source": [
        "## llama3-70b-8192"
      ],
      "metadata": {
        "id": "X9yohHLJEoHj"
      }
    },
    {
      "cell_type": "code",
      "source": [
        "evaluate_model(data, \"llama3-70b-8192\")"
      ],
      "metadata": {
        "colab": {
          "base_uri": "https://localhost:8080/"
        },
        "id": "RWusRFx1FL61",
        "outputId": "32b78cfd-d5b0-40b8-843f-26603f6b14ba"
      },
      "execution_count": 13,
      "outputs": [
        {
          "output_type": "stream",
          "name": "stderr",
          "text": [
            "100%|██████████| 300/300 [11:00<00:00,  2.20s/it]"
          ]
        },
        {
          "output_type": "stream",
          "name": "stdout",
          "text": [
            "Exact Match: 0.006666666666666667\n",
            "Precision: 0.7149985257463664\n",
            "Recall: 0.6967950907127445\n",
            "F1 Score: 0.6936466449067747\n"
          ]
        },
        {
          "output_type": "stream",
          "name": "stderr",
          "text": [
            "\n"
          ]
        }
      ]
    },
    {
      "cell_type": "markdown",
      "source": [
        "## gemma2-9b-it"
      ],
      "metadata": {
        "id": "ZcLB6VFREs0K"
      }
    },
    {
      "cell_type": "code",
      "source": [
        "evaluate_model(data, \"gemma2-9b-it\")"
      ],
      "metadata": {
        "colab": {
          "base_uri": "https://localhost:8080/"
        },
        "id": "UJh1ORZqFOwY",
        "outputId": "d309ccfe-4b8c-4e73-df19-86b7a3dd98e5"
      },
      "execution_count": 14,
      "outputs": [
        {
          "output_type": "stream",
          "name": "stderr",
          "text": [
            "100%|██████████| 300/300 [10:46<00:00,  2.15s/it]"
          ]
        },
        {
          "output_type": "stream",
          "name": "stdout",
          "text": [
            "Exact Match: 0.0\n",
            "Precision: 0.8015317688086716\n",
            "Recall: 0.7354538584372563\n",
            "F1 Score: 0.7634117749666258\n"
          ]
        },
        {
          "output_type": "stream",
          "name": "stderr",
          "text": [
            "\n"
          ]
        }
      ]
    },
    {
      "cell_type": "markdown",
      "source": [
        "## mixtral-8x7b-32768"
      ],
      "metadata": {
        "id": "fyyaQ197EwNW"
      }
    },
    {
      "cell_type": "code",
      "source": [
        "evaluate_model(data, \"mixtral-8x7b-32768\")"
      ],
      "metadata": {
        "colab": {
          "base_uri": "https://localhost:8080/"
        },
        "id": "o4yBv1QuFQ7q",
        "outputId": "08c80a53-2887-40e0-8c57-20ca841cb729"
      },
      "execution_count": 15,
      "outputs": [
        {
          "output_type": "stream",
          "name": "stderr",
          "text": [
            "100%|██████████| 300/300 [10:46<00:00,  2.15s/it]"
          ]
        },
        {
          "output_type": "stream",
          "name": "stdout",
          "text": [
            "Exact Match: 0.0\n",
            "Precision: 0.5900965062335317\n",
            "Recall: 0.6053485818969347\n",
            "F1 Score: 0.5875230376110244\n"
          ]
        },
        {
          "output_type": "stream",
          "name": "stderr",
          "text": [
            "\n"
          ]
        }
      ]
    },
    {
      "cell_type": "markdown",
      "source": [
        "## llama-3.3-70b-versatile"
      ],
      "metadata": {
        "id": "Or1hJAogE2HR"
      }
    },
    {
      "cell_type": "code",
      "source": [
        "evaluate_model(data, \"llama-3.3-70b-versatile\")"
      ],
      "metadata": {
        "colab": {
          "base_uri": "https://localhost:8080/"
        },
        "id": "DMuEc5XZ2Xvw",
        "outputId": "20595177-c712-4c48-dfbe-d3964d2f00d8"
      },
      "execution_count": 16,
      "outputs": [
        {
          "output_type": "stream",
          "name": "stderr",
          "text": [
            "100%|██████████| 300/300 [11:06<00:00,  2.22s/it]"
          ]
        },
        {
          "output_type": "stream",
          "name": "stdout",
          "text": [
            "Exact Match: 0.0\n",
            "Precision: 0.720728392595057\n",
            "Recall: 0.6420264473127477\n",
            "F1 Score: 0.6759102706409095\n"
          ]
        },
        {
          "output_type": "stream",
          "name": "stderr",
          "text": [
            "\n"
          ]
        }
      ]
    },
    {
      "cell_type": "code",
      "source": [
        "data"
      ],
      "metadata": {
        "colab": {
          "base_uri": "https://localhost:8080/",
          "height": 424
        },
        "id": "UrWYDPxgleVR",
        "outputId": "9aa49bf9-e628-4994-a0dc-b16d265b6d7d"
      },
      "execution_count": 17,
      "outputs": [
        {
          "output_type": "execute_result",
          "data": {
            "text/plain": [
              "        topic_category                                      original_text  \\\n",
              "17745              5.0  how do i erase my book marks when i've double ...   \n",
              "67137              9.0                   she is sending me mixed signals.   \n",
              "76325              1.0   declarative: the concept of clontology was cr...   \n",
              "86111              9.0   declarative: being a pregnancy resulting from...   \n",
              "12058              3.0      what causes the pain associated with bruises?   \n",
              "...                ...                                                ...   \n",
              "97843              4.0    the itsy bitsy spider climbed up the water s...   \n",
              "117563             4.0  imperative: share the reasons behind the high ...   \n",
              "46642              3.0  what if i take vinegar every day what would th...   \n",
              "66975              8.0   declarative: bob marley fans range from 5 to ...   \n",
              "51265              8.0            do you have old records sitting around?   \n",
              "\n",
              "                                           base_word_text  \n",
              "17745   how i erase my book mark when i ve double clic...  \n",
              "67137                        she sending me mixed signal   \n",
              "76325    concept of clontology created by cganterrocco...  \n",
              "86111    pregnancy resulting from rape nt define your ...  \n",
              "12058             what cause pain associated with bruise   \n",
              "...                                                   ...  \n",
              "97843           itsy bitsy spider climbed up water spout   \n",
              "117563   share reason behind high rate of rape case in...  \n",
              "46642   what if i take vinegar every day what that for...  \n",
              "66975         bob marley fan range from 5 to 85 year old   \n",
              "51265                      you old record sitting around   \n",
              "\n",
              "[300 rows x 3 columns]"
            ],
            "text/html": [
              "\n",
              "  <div id=\"df-d5b2d26e-86e7-4641-bd0c-542662f0ad93\" class=\"colab-df-container\">\n",
              "    <div>\n",
              "<style scoped>\n",
              "    .dataframe tbody tr th:only-of-type {\n",
              "        vertical-align: middle;\n",
              "    }\n",
              "\n",
              "    .dataframe tbody tr th {\n",
              "        vertical-align: top;\n",
              "    }\n",
              "\n",
              "    .dataframe thead th {\n",
              "        text-align: right;\n",
              "    }\n",
              "</style>\n",
              "<table border=\"1\" class=\"dataframe\">\n",
              "  <thead>\n",
              "    <tr style=\"text-align: right;\">\n",
              "      <th></th>\n",
              "      <th>topic_category</th>\n",
              "      <th>original_text</th>\n",
              "      <th>base_word_text</th>\n",
              "    </tr>\n",
              "  </thead>\n",
              "  <tbody>\n",
              "    <tr>\n",
              "      <th>17745</th>\n",
              "      <td>5.0</td>\n",
              "      <td>how do i erase my book marks when i've double ...</td>\n",
              "      <td>how i erase my book mark when i ve double clic...</td>\n",
              "    </tr>\n",
              "    <tr>\n",
              "      <th>67137</th>\n",
              "      <td>9.0</td>\n",
              "      <td>she is sending me mixed signals.</td>\n",
              "      <td>she sending me mixed signal</td>\n",
              "    </tr>\n",
              "    <tr>\n",
              "      <th>76325</th>\n",
              "      <td>1.0</td>\n",
              "      <td>declarative: the concept of clontology was cr...</td>\n",
              "      <td>concept of clontology created by cganterrocco...</td>\n",
              "    </tr>\n",
              "    <tr>\n",
              "      <th>86111</th>\n",
              "      <td>9.0</td>\n",
              "      <td>declarative: being a pregnancy resulting from...</td>\n",
              "      <td>pregnancy resulting from rape nt define your ...</td>\n",
              "    </tr>\n",
              "    <tr>\n",
              "      <th>12058</th>\n",
              "      <td>3.0</td>\n",
              "      <td>what causes the pain associated with bruises?</td>\n",
              "      <td>what cause pain associated with bruise</td>\n",
              "    </tr>\n",
              "    <tr>\n",
              "      <th>...</th>\n",
              "      <td>...</td>\n",
              "      <td>...</td>\n",
              "      <td>...</td>\n",
              "    </tr>\n",
              "    <tr>\n",
              "      <th>97843</th>\n",
              "      <td>4.0</td>\n",
              "      <td>the itsy bitsy spider climbed up the water s...</td>\n",
              "      <td>itsy bitsy spider climbed up water spout</td>\n",
              "    </tr>\n",
              "    <tr>\n",
              "      <th>117563</th>\n",
              "      <td>4.0</td>\n",
              "      <td>imperative: share the reasons behind the high ...</td>\n",
              "      <td>share reason behind high rate of rape case in...</td>\n",
              "    </tr>\n",
              "    <tr>\n",
              "      <th>46642</th>\n",
              "      <td>3.0</td>\n",
              "      <td>what if i take vinegar every day what would th...</td>\n",
              "      <td>what if i take vinegar every day what that for...</td>\n",
              "    </tr>\n",
              "    <tr>\n",
              "      <th>66975</th>\n",
              "      <td>8.0</td>\n",
              "      <td>declarative: bob marley fans range from 5 to ...</td>\n",
              "      <td>bob marley fan range from 5 to 85 year old</td>\n",
              "    </tr>\n",
              "    <tr>\n",
              "      <th>51265</th>\n",
              "      <td>8.0</td>\n",
              "      <td>do you have old records sitting around?</td>\n",
              "      <td>you old record sitting around</td>\n",
              "    </tr>\n",
              "  </tbody>\n",
              "</table>\n",
              "<p>300 rows × 3 columns</p>\n",
              "</div>\n",
              "    <div class=\"colab-df-buttons\">\n",
              "\n",
              "  <div class=\"colab-df-container\">\n",
              "    <button class=\"colab-df-convert\" onclick=\"convertToInteractive('df-d5b2d26e-86e7-4641-bd0c-542662f0ad93')\"\n",
              "            title=\"Convert this dataframe to an interactive table.\"\n",
              "            style=\"display:none;\">\n",
              "\n",
              "  <svg xmlns=\"http://www.w3.org/2000/svg\" height=\"24px\" viewBox=\"0 -960 960 960\">\n",
              "    <path d=\"M120-120v-720h720v720H120Zm60-500h600v-160H180v160Zm220 220h160v-160H400v160Zm0 220h160v-160H400v160ZM180-400h160v-160H180v160Zm440 0h160v-160H620v160ZM180-180h160v-160H180v160Zm440 0h160v-160H620v160Z\"/>\n",
              "  </svg>\n",
              "    </button>\n",
              "\n",
              "  <style>\n",
              "    .colab-df-container {\n",
              "      display:flex;\n",
              "      gap: 12px;\n",
              "    }\n",
              "\n",
              "    .colab-df-convert {\n",
              "      background-color: #E8F0FE;\n",
              "      border: none;\n",
              "      border-radius: 50%;\n",
              "      cursor: pointer;\n",
              "      display: none;\n",
              "      fill: #1967D2;\n",
              "      height: 32px;\n",
              "      padding: 0 0 0 0;\n",
              "      width: 32px;\n",
              "    }\n",
              "\n",
              "    .colab-df-convert:hover {\n",
              "      background-color: #E2EBFA;\n",
              "      box-shadow: 0px 1px 2px rgba(60, 64, 67, 0.3), 0px 1px 3px 1px rgba(60, 64, 67, 0.15);\n",
              "      fill: #174EA6;\n",
              "    }\n",
              "\n",
              "    .colab-df-buttons div {\n",
              "      margin-bottom: 4px;\n",
              "    }\n",
              "\n",
              "    [theme=dark] .colab-df-convert {\n",
              "      background-color: #3B4455;\n",
              "      fill: #D2E3FC;\n",
              "    }\n",
              "\n",
              "    [theme=dark] .colab-df-convert:hover {\n",
              "      background-color: #434B5C;\n",
              "      box-shadow: 0px 1px 3px 1px rgba(0, 0, 0, 0.15);\n",
              "      filter: drop-shadow(0px 1px 2px rgba(0, 0, 0, 0.3));\n",
              "      fill: #FFFFFF;\n",
              "    }\n",
              "  </style>\n",
              "\n",
              "    <script>\n",
              "      const buttonEl =\n",
              "        document.querySelector('#df-d5b2d26e-86e7-4641-bd0c-542662f0ad93 button.colab-df-convert');\n",
              "      buttonEl.style.display =\n",
              "        google.colab.kernel.accessAllowed ? 'block' : 'none';\n",
              "\n",
              "      async function convertToInteractive(key) {\n",
              "        const element = document.querySelector('#df-d5b2d26e-86e7-4641-bd0c-542662f0ad93');\n",
              "        const dataTable =\n",
              "          await google.colab.kernel.invokeFunction('convertToInteractive',\n",
              "                                                    [key], {});\n",
              "        if (!dataTable) return;\n",
              "\n",
              "        const docLinkHtml = 'Like what you see? Visit the ' +\n",
              "          '<a target=\"_blank\" href=https://colab.research.google.com/notebooks/data_table.ipynb>data table notebook</a>'\n",
              "          + ' to learn more about interactive tables.';\n",
              "        element.innerHTML = '';\n",
              "        dataTable['output_type'] = 'display_data';\n",
              "        await google.colab.output.renderOutput(dataTable, element);\n",
              "        const docLink = document.createElement('div');\n",
              "        docLink.innerHTML = docLinkHtml;\n",
              "        element.appendChild(docLink);\n",
              "      }\n",
              "    </script>\n",
              "  </div>\n",
              "\n",
              "\n",
              "<div id=\"df-a3ad7d22-c30c-4f85-a8f2-c4e59798a709\">\n",
              "  <button class=\"colab-df-quickchart\" onclick=\"quickchart('df-a3ad7d22-c30c-4f85-a8f2-c4e59798a709')\"\n",
              "            title=\"Suggest charts\"\n",
              "            style=\"display:none;\">\n",
              "\n",
              "<svg xmlns=\"http://www.w3.org/2000/svg\" height=\"24px\"viewBox=\"0 0 24 24\"\n",
              "     width=\"24px\">\n",
              "    <g>\n",
              "        <path d=\"M19 3H5c-1.1 0-2 .9-2 2v14c0 1.1.9 2 2 2h14c1.1 0 2-.9 2-2V5c0-1.1-.9-2-2-2zM9 17H7v-7h2v7zm4 0h-2V7h2v10zm4 0h-2v-4h2v4z\"/>\n",
              "    </g>\n",
              "</svg>\n",
              "  </button>\n",
              "\n",
              "<style>\n",
              "  .colab-df-quickchart {\n",
              "      --bg-color: #E8F0FE;\n",
              "      --fill-color: #1967D2;\n",
              "      --hover-bg-color: #E2EBFA;\n",
              "      --hover-fill-color: #174EA6;\n",
              "      --disabled-fill-color: #AAA;\n",
              "      --disabled-bg-color: #DDD;\n",
              "  }\n",
              "\n",
              "  [theme=dark] .colab-df-quickchart {\n",
              "      --bg-color: #3B4455;\n",
              "      --fill-color: #D2E3FC;\n",
              "      --hover-bg-color: #434B5C;\n",
              "      --hover-fill-color: #FFFFFF;\n",
              "      --disabled-bg-color: #3B4455;\n",
              "      --disabled-fill-color: #666;\n",
              "  }\n",
              "\n",
              "  .colab-df-quickchart {\n",
              "    background-color: var(--bg-color);\n",
              "    border: none;\n",
              "    border-radius: 50%;\n",
              "    cursor: pointer;\n",
              "    display: none;\n",
              "    fill: var(--fill-color);\n",
              "    height: 32px;\n",
              "    padding: 0;\n",
              "    width: 32px;\n",
              "  }\n",
              "\n",
              "  .colab-df-quickchart:hover {\n",
              "    background-color: var(--hover-bg-color);\n",
              "    box-shadow: 0 1px 2px rgba(60, 64, 67, 0.3), 0 1px 3px 1px rgba(60, 64, 67, 0.15);\n",
              "    fill: var(--button-hover-fill-color);\n",
              "  }\n",
              "\n",
              "  .colab-df-quickchart-complete:disabled,\n",
              "  .colab-df-quickchart-complete:disabled:hover {\n",
              "    background-color: var(--disabled-bg-color);\n",
              "    fill: var(--disabled-fill-color);\n",
              "    box-shadow: none;\n",
              "  }\n",
              "\n",
              "  .colab-df-spinner {\n",
              "    border: 2px solid var(--fill-color);\n",
              "    border-color: transparent;\n",
              "    border-bottom-color: var(--fill-color);\n",
              "    animation:\n",
              "      spin 1s steps(1) infinite;\n",
              "  }\n",
              "\n",
              "  @keyframes spin {\n",
              "    0% {\n",
              "      border-color: transparent;\n",
              "      border-bottom-color: var(--fill-color);\n",
              "      border-left-color: var(--fill-color);\n",
              "    }\n",
              "    20% {\n",
              "      border-color: transparent;\n",
              "      border-left-color: var(--fill-color);\n",
              "      border-top-color: var(--fill-color);\n",
              "    }\n",
              "    30% {\n",
              "      border-color: transparent;\n",
              "      border-left-color: var(--fill-color);\n",
              "      border-top-color: var(--fill-color);\n",
              "      border-right-color: var(--fill-color);\n",
              "    }\n",
              "    40% {\n",
              "      border-color: transparent;\n",
              "      border-right-color: var(--fill-color);\n",
              "      border-top-color: var(--fill-color);\n",
              "    }\n",
              "    60% {\n",
              "      border-color: transparent;\n",
              "      border-right-color: var(--fill-color);\n",
              "    }\n",
              "    80% {\n",
              "      border-color: transparent;\n",
              "      border-right-color: var(--fill-color);\n",
              "      border-bottom-color: var(--fill-color);\n",
              "    }\n",
              "    90% {\n",
              "      border-color: transparent;\n",
              "      border-bottom-color: var(--fill-color);\n",
              "    }\n",
              "  }\n",
              "</style>\n",
              "\n",
              "  <script>\n",
              "    async function quickchart(key) {\n",
              "      const quickchartButtonEl =\n",
              "        document.querySelector('#' + key + ' button');\n",
              "      quickchartButtonEl.disabled = true;  // To prevent multiple clicks.\n",
              "      quickchartButtonEl.classList.add('colab-df-spinner');\n",
              "      try {\n",
              "        const charts = await google.colab.kernel.invokeFunction(\n",
              "            'suggestCharts', [key], {});\n",
              "      } catch (error) {\n",
              "        console.error('Error during call to suggestCharts:', error);\n",
              "      }\n",
              "      quickchartButtonEl.classList.remove('colab-df-spinner');\n",
              "      quickchartButtonEl.classList.add('colab-df-quickchart-complete');\n",
              "    }\n",
              "    (() => {\n",
              "      let quickchartButtonEl =\n",
              "        document.querySelector('#df-a3ad7d22-c30c-4f85-a8f2-c4e59798a709 button');\n",
              "      quickchartButtonEl.style.display =\n",
              "        google.colab.kernel.accessAllowed ? 'block' : 'none';\n",
              "    })();\n",
              "  </script>\n",
              "</div>\n",
              "\n",
              "  <div id=\"id_b83ec542-ebf5-4816-98ce-bcc0d587489b\">\n",
              "    <style>\n",
              "      .colab-df-generate {\n",
              "        background-color: #E8F0FE;\n",
              "        border: none;\n",
              "        border-radius: 50%;\n",
              "        cursor: pointer;\n",
              "        display: none;\n",
              "        fill: #1967D2;\n",
              "        height: 32px;\n",
              "        padding: 0 0 0 0;\n",
              "        width: 32px;\n",
              "      }\n",
              "\n",
              "      .colab-df-generate:hover {\n",
              "        background-color: #E2EBFA;\n",
              "        box-shadow: 0px 1px 2px rgba(60, 64, 67, 0.3), 0px 1px 3px 1px rgba(60, 64, 67, 0.15);\n",
              "        fill: #174EA6;\n",
              "      }\n",
              "\n",
              "      [theme=dark] .colab-df-generate {\n",
              "        background-color: #3B4455;\n",
              "        fill: #D2E3FC;\n",
              "      }\n",
              "\n",
              "      [theme=dark] .colab-df-generate:hover {\n",
              "        background-color: #434B5C;\n",
              "        box-shadow: 0px 1px 3px 1px rgba(0, 0, 0, 0.15);\n",
              "        filter: drop-shadow(0px 1px 2px rgba(0, 0, 0, 0.3));\n",
              "        fill: #FFFFFF;\n",
              "      }\n",
              "    </style>\n",
              "    <button class=\"colab-df-generate\" onclick=\"generateWithVariable('data')\"\n",
              "            title=\"Generate code using this dataframe.\"\n",
              "            style=\"display:none;\">\n",
              "\n",
              "  <svg xmlns=\"http://www.w3.org/2000/svg\" height=\"24px\"viewBox=\"0 0 24 24\"\n",
              "       width=\"24px\">\n",
              "    <path d=\"M7,19H8.4L18.45,9,17,7.55,7,17.6ZM5,21V16.75L18.45,3.32a2,2,0,0,1,2.83,0l1.4,1.43a1.91,1.91,0,0,1,.58,1.4,1.91,1.91,0,0,1-.58,1.4L9.25,21ZM18.45,9,17,7.55Zm-12,3A5.31,5.31,0,0,0,4.9,8.1,5.31,5.31,0,0,0,1,6.5,5.31,5.31,0,0,0,4.9,4.9,5.31,5.31,0,0,0,6.5,1,5.31,5.31,0,0,0,8.1,4.9,5.31,5.31,0,0,0,12,6.5,5.46,5.46,0,0,0,6.5,12Z\"/>\n",
              "  </svg>\n",
              "    </button>\n",
              "    <script>\n",
              "      (() => {\n",
              "      const buttonEl =\n",
              "        document.querySelector('#id_b83ec542-ebf5-4816-98ce-bcc0d587489b button.colab-df-generate');\n",
              "      buttonEl.style.display =\n",
              "        google.colab.kernel.accessAllowed ? 'block' : 'none';\n",
              "\n",
              "      buttonEl.onclick = () => {\n",
              "        google.colab.notebook.generateWithVariable('data');\n",
              "      }\n",
              "      })();\n",
              "    </script>\n",
              "  </div>\n",
              "\n",
              "    </div>\n",
              "  </div>\n"
            ],
            "application/vnd.google.colaboratory.intrinsic+json": {
              "type": "dataframe",
              "variable_name": "data",
              "summary": "{\n  \"name\": \"data\",\n  \"rows\": 300,\n  \"fields\": [\n    {\n      \"column\": \"topic_category\",\n      \"properties\": {\n        \"dtype\": \"number\",\n        \"std\": 2.819780030479303,\n        \"min\": 1.0,\n        \"max\": 10.0,\n        \"num_unique_values\": 10,\n        \"samples\": [\n          4.0,\n          9.0,\n          2.0\n        ],\n        \"semantic_type\": \"\",\n        \"description\": \"\"\n      }\n    },\n    {\n      \"column\": \"original_text\",\n      \"properties\": {\n        \"dtype\": \"string\",\n        \"num_unique_values\": 300,\n        \"samples\": [\n          \" declarative: the word logarithm comes from the greek words 'logos' meaning reason and 'arithmos' meaning number.\",\n          \" declarative: anxiety can be caused by various factors including genetics, environment, and brain chemistry. it typically needs to be treated if symptoms interfere with daily life, last for an extended period, or worsen over time.\",\n          \"imperative: exercising is the best way to get rid of love handles besides dieting! \"\n        ],\n        \"semantic_type\": \"\",\n        \"description\": \"\"\n      }\n    },\n    {\n      \"column\": \"base_word_text\",\n      \"properties\": {\n        \"dtype\": \"string\",\n        \"num_unique_values\": 300,\n        \"samples\": [\n          \" word logarithm come from greek word logos  meaning reason and arithmos  meaning number \",\n          \" anxiety can caused by various factor including genetics  environment  and brain chemistry  it typically need to treated if symptom interfere with daily life  last for extended period  or worsen over time \",\n          \" exercising best way to get rid of love handle besides dieting \"\n        ],\n        \"semantic_type\": \"\",\n        \"description\": \"\"\n      }\n    }\n  ]\n}"
            }
          },
          "metadata": {},
          "execution_count": 17
        }
      ]
    }
  ]
}