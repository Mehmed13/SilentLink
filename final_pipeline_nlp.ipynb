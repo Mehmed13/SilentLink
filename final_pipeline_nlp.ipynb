{
  "metadata": {
    "kernelspec": {
      "display_name": "Python 3",
      "name": "python3"
    },
    "language_info": {
      "name": "python",
      "version": "3.10.14",
      "mimetype": "text/x-python",
      "codemirror_mode": {
        "name": "ipython",
        "version": 3
      },
      "pygments_lexer": "ipython3",
      "nbconvert_exporter": "python",
      "file_extension": ".py"
    },
    "kaggle": {
      "accelerator": "none",
      "dataSources": [
        {
          "sourceId": 10136001,
          "sourceType": "datasetVersion",
          "datasetId": 6255630
        },
        {
          "sourceId": 10170501,
          "sourceType": "datasetVersion",
          "datasetId": 6281208
        }
      ],
      "dockerImageVersionId": 30804,
      "isInternetEnabled": true,
      "language": "python",
      "sourceType": "notebook",
      "isGpuEnabled": false
    },
    "colab": {
      "provenance": [],
      "gpuType": "T4"
    },
    "accelerator": "GPU"
  },
  "nbformat_minor": 0,
  "nbformat": 4,
  "cells": [
    {
      "cell_type": "markdown",
      "source": [
        "# Setup"
      ],
      "metadata": {
        "id": "xNWXciSr0P8K"
      }
    },
    {
      "cell_type": "code",
      "source": [
        "%pip install groq"
      ],
      "metadata": {
        "colab": {
          "base_uri": "https://localhost:8080/"
        },
        "id": "th9VgH0kBrLz",
        "outputId": "688a5679-d768-46d9-dd52-97b6b207a0a8"
      },
      "execution_count": null,
      "outputs": [
        {
          "output_type": "stream",
          "name": "stdout",
          "text": [
            "Collecting groq\n",
            "  Downloading groq-0.13.0-py3-none-any.whl.metadata (13 kB)\n",
            "Requirement already satisfied: anyio<5,>=3.5.0 in /usr/local/lib/python3.10/dist-packages (from groq) (3.7.1)\n",
            "Requirement already satisfied: distro<2,>=1.7.0 in /usr/local/lib/python3.10/dist-packages (from groq) (1.9.0)\n",
            "Requirement already satisfied: httpx<1,>=0.23.0 in /usr/local/lib/python3.10/dist-packages (from groq) (0.28.0)\n",
            "Requirement already satisfied: pydantic<3,>=1.9.0 in /usr/local/lib/python3.10/dist-packages (from groq) (2.10.3)\n",
            "Requirement already satisfied: sniffio in /usr/local/lib/python3.10/dist-packages (from groq) (1.3.1)\n",
            "Requirement already satisfied: typing-extensions<5,>=4.7 in /usr/local/lib/python3.10/dist-packages (from groq) (4.12.2)\n",
            "Requirement already satisfied: idna>=2.8 in /usr/local/lib/python3.10/dist-packages (from anyio<5,>=3.5.0->groq) (3.10)\n",
            "Requirement already satisfied: exceptiongroup in /usr/local/lib/python3.10/dist-packages (from anyio<5,>=3.5.0->groq) (1.2.2)\n",
            "Requirement already satisfied: certifi in /usr/local/lib/python3.10/dist-packages (from httpx<1,>=0.23.0->groq) (2024.8.30)\n",
            "Requirement already satisfied: httpcore==1.* in /usr/local/lib/python3.10/dist-packages (from httpx<1,>=0.23.0->groq) (1.0.7)\n",
            "Requirement already satisfied: h11<0.15,>=0.13 in /usr/local/lib/python3.10/dist-packages (from httpcore==1.*->httpx<1,>=0.23.0->groq) (0.14.0)\n",
            "Requirement already satisfied: annotated-types>=0.6.0 in /usr/local/lib/python3.10/dist-packages (from pydantic<3,>=1.9.0->groq) (0.7.0)\n",
            "Requirement already satisfied: pydantic-core==2.27.1 in /usr/local/lib/python3.10/dist-packages (from pydantic<3,>=1.9.0->groq) (2.27.1)\n",
            "Downloading groq-0.13.0-py3-none-any.whl (108 kB)\n",
            "\u001b[?25l   \u001b[90m━━━━━━━━━━━━━━━━━━━━━━━━━━━━━━━━━━━━━━━━\u001b[0m \u001b[32m0.0/108.8 kB\u001b[0m \u001b[31m?\u001b[0m eta \u001b[36m-:--:--\u001b[0m\r\u001b[2K   \u001b[90m━━━━━━━━━━━━━━━━━━━━━━━━━━━━━━━━━━━━━━━━\u001b[0m \u001b[32m108.8/108.8 kB\u001b[0m \u001b[31m9.9 MB/s\u001b[0m eta \u001b[36m0:00:00\u001b[0m\n",
            "\u001b[?25hInstalling collected packages: groq\n",
            "Successfully installed groq-0.13.0\n"
          ]
        }
      ]
    },
    {
      "cell_type": "code",
      "source": [
        "from google.colab import drive\n",
        "drive.mount('/content/drive')"
      ],
      "metadata": {
        "colab": {
          "base_uri": "https://localhost:8080/"
        },
        "id": "IMSWxLyi0ihl",
        "outputId": "1672a9aa-ac2c-4ba4-eb35-98a9268ac7a4"
      },
      "execution_count": null,
      "outputs": [
        {
          "output_type": "stream",
          "name": "stdout",
          "text": [
            "Drive already mounted at /content/drive; to attempt to forcibly remount, call drive.mount(\"/content/drive\", force_remount=True).\n"
          ]
        }
      ]
    },
    {
      "cell_type": "markdown",
      "source": [
        "## Import Dependencies"
      ],
      "metadata": {
        "id": "Zppx_xZh0P8W"
      }
    },
    {
      "cell_type": "code",
      "source": [
        "import pandas as pd\n",
        "import numpy as np\n",
        "import tensorflow as tf\n",
        "import torch\n",
        "from transformers import BertTokenizer, BertForSequenceClassification, AdamW, TFBertModel\n",
        "from tqdm import tqdm\n",
        "from torch.utils.data import Dataset, DataLoader\n",
        "from tensorflow.keras.models import Sequential\n",
        "from tensorflow.keras.layers import Embedding, LSTM, Dense, Bidirectional, Input\n",
        "\n",
        "from sklearn.metrics import classification_report\n",
        "import keras"
      ],
      "metadata": {
        "trusted": true,
        "execution": {
          "iopub.status.busy": "2024-12-11T12:36:27.180049Z",
          "iopub.execute_input": "2024-12-11T12:36:27.180474Z",
          "iopub.status.idle": "2024-12-11T12:36:51.412196Z",
          "shell.execute_reply.started": "2024-12-11T12:36:27.180435Z",
          "shell.execute_reply": "2024-12-11T12:36:51.411114Z"
        },
        "id": "10ZBDqkg0P8Y"
      },
      "outputs": [],
      "execution_count": null
    },
    {
      "cell_type": "markdown",
      "source": [
        "## Data Loading"
      ],
      "metadata": {
        "id": "u_9wWsFC0P8e"
      }
    },
    {
      "cell_type": "code",
      "source": [
        "from google.colab import userdata"
      ],
      "metadata": {
        "id": "DSogwCBB27Jq"
      },
      "execution_count": null,
      "outputs": []
    },
    {
      "cell_type": "code",
      "source": [
        "DIR_PATH = userdata.get('DIR_PATH')"
      ],
      "metadata": {
        "id": "soO77gY407t_"
      },
      "execution_count": null,
      "outputs": []
    },
    {
      "cell_type": "code",
      "source": [
        "data = pd.read_csv(DIR_PATH+\"/seq2seq_data.csv\")\n",
        "data[\"topic_category\"] = data[\"topic_category\"]-1\n",
        "data"
      ],
      "metadata": {
        "trusted": true,
        "execution": {
          "iopub.status.busy": "2024-12-11T13:29:18.663263Z",
          "iopub.execute_input": "2024-12-11T13:29:18.663788Z",
          "iopub.status.idle": "2024-12-11T13:29:19.321094Z",
          "shell.execute_reply.started": "2024-12-11T13:29:18.663748Z",
          "shell.execute_reply": "2024-12-11T13:29:19.319478Z"
        },
        "id": "B1gqPNZG0P8f",
        "colab": {
          "base_uri": "https://localhost:8080/",
          "height": 423
        },
        "outputId": "e3777cd9-ff58-4793-fc9d-ada53db2654c"
      },
      "outputs": [
        {
          "output_type": "execute_result",
          "data": {
            "text/plain": [
              "        topic_category                                      original_text  \\\n",
              "0                  8.0                       what makes friendship click?   \n",
              "1                  1.0                      why does zebras have stripes?   \n",
              "2                  3.0           what did the itsy bitsy sipder climb up?   \n",
              "3                  3.0  what is the difference between a bachelors and...   \n",
              "4                  2.0                              why do women get pms?   \n",
              "...                ...                                                ...   \n",
              "174712             8.0  imperative: tell me what guys only guys must do!    \n",
              "174713             8.0  tell me the story of any fantasy figure i'd ch...   \n",
              "174714             7.0           imperative: reveal a secret about life.    \n",
              "174715             5.0  imperative: demande à domenech ce qu'il en est...   \n",
              "174716             4.0          tell me the low sounds that a cat makes!    \n",
              "\n",
              "                                           base_word_text  \n",
              "0                             what make friendship click   \n",
              "1                                       why zebra stripe   \n",
              "2                        what itsy bitsy sipder climb up   \n",
              "3       what difference between bachelor and master de...  \n",
              "4                                       why woman get pm   \n",
              "...                                                   ...  \n",
              "174712                    tell me what guy only guy must   \n",
              "174713    tell me story of any fantasy figure i d choose   \n",
              "174714                          reveal secret about life   \n",
              "174715   demande à domenech ce quil en est de son méti...  \n",
              "174716                   tell me low sound that cat make   \n",
              "\n",
              "[174717 rows x 3 columns]"
            ],
            "text/html": [
              "\n",
              "  <div id=\"df-240e4efe-bcd0-4339-9847-5e3df5da4182\" class=\"colab-df-container\">\n",
              "    <div>\n",
              "<style scoped>\n",
              "    .dataframe tbody tr th:only-of-type {\n",
              "        vertical-align: middle;\n",
              "    }\n",
              "\n",
              "    .dataframe tbody tr th {\n",
              "        vertical-align: top;\n",
              "    }\n",
              "\n",
              "    .dataframe thead th {\n",
              "        text-align: right;\n",
              "    }\n",
              "</style>\n",
              "<table border=\"1\" class=\"dataframe\">\n",
              "  <thead>\n",
              "    <tr style=\"text-align: right;\">\n",
              "      <th></th>\n",
              "      <th>topic_category</th>\n",
              "      <th>original_text</th>\n",
              "      <th>base_word_text</th>\n",
              "    </tr>\n",
              "  </thead>\n",
              "  <tbody>\n",
              "    <tr>\n",
              "      <th>0</th>\n",
              "      <td>8.0</td>\n",
              "      <td>what makes friendship click?</td>\n",
              "      <td>what make friendship click</td>\n",
              "    </tr>\n",
              "    <tr>\n",
              "      <th>1</th>\n",
              "      <td>1.0</td>\n",
              "      <td>why does zebras have stripes?</td>\n",
              "      <td>why zebra stripe</td>\n",
              "    </tr>\n",
              "    <tr>\n",
              "      <th>2</th>\n",
              "      <td>3.0</td>\n",
              "      <td>what did the itsy bitsy sipder climb up?</td>\n",
              "      <td>what itsy bitsy sipder climb up</td>\n",
              "    </tr>\n",
              "    <tr>\n",
              "      <th>3</th>\n",
              "      <td>3.0</td>\n",
              "      <td>what is the difference between a bachelors and...</td>\n",
              "      <td>what difference between bachelor and master de...</td>\n",
              "    </tr>\n",
              "    <tr>\n",
              "      <th>4</th>\n",
              "      <td>2.0</td>\n",
              "      <td>why do women get pms?</td>\n",
              "      <td>why woman get pm</td>\n",
              "    </tr>\n",
              "    <tr>\n",
              "      <th>...</th>\n",
              "      <td>...</td>\n",
              "      <td>...</td>\n",
              "      <td>...</td>\n",
              "    </tr>\n",
              "    <tr>\n",
              "      <th>174712</th>\n",
              "      <td>8.0</td>\n",
              "      <td>imperative: tell me what guys only guys must do!</td>\n",
              "      <td>tell me what guy only guy must</td>\n",
              "    </tr>\n",
              "    <tr>\n",
              "      <th>174713</th>\n",
              "      <td>8.0</td>\n",
              "      <td>tell me the story of any fantasy figure i'd ch...</td>\n",
              "      <td>tell me story of any fantasy figure i d choose</td>\n",
              "    </tr>\n",
              "    <tr>\n",
              "      <th>174714</th>\n",
              "      <td>7.0</td>\n",
              "      <td>imperative: reveal a secret about life.</td>\n",
              "      <td>reveal secret about life</td>\n",
              "    </tr>\n",
              "    <tr>\n",
              "      <th>174715</th>\n",
              "      <td>5.0</td>\n",
              "      <td>imperative: demande à domenech ce qu'il en est...</td>\n",
              "      <td>demande à domenech ce quil en est de son méti...</td>\n",
              "    </tr>\n",
              "    <tr>\n",
              "      <th>174716</th>\n",
              "      <td>4.0</td>\n",
              "      <td>tell me the low sounds that a cat makes!</td>\n",
              "      <td>tell me low sound that cat make</td>\n",
              "    </tr>\n",
              "  </tbody>\n",
              "</table>\n",
              "<p>174717 rows × 3 columns</p>\n",
              "</div>\n",
              "    <div class=\"colab-df-buttons\">\n",
              "\n",
              "  <div class=\"colab-df-container\">\n",
              "    <button class=\"colab-df-convert\" onclick=\"convertToInteractive('df-240e4efe-bcd0-4339-9847-5e3df5da4182')\"\n",
              "            title=\"Convert this dataframe to an interactive table.\"\n",
              "            style=\"display:none;\">\n",
              "\n",
              "  <svg xmlns=\"http://www.w3.org/2000/svg\" height=\"24px\" viewBox=\"0 -960 960 960\">\n",
              "    <path d=\"M120-120v-720h720v720H120Zm60-500h600v-160H180v160Zm220 220h160v-160H400v160Zm0 220h160v-160H400v160ZM180-400h160v-160H180v160Zm440 0h160v-160H620v160ZM180-180h160v-160H180v160Zm440 0h160v-160H620v160Z\"/>\n",
              "  </svg>\n",
              "    </button>\n",
              "\n",
              "  <style>\n",
              "    .colab-df-container {\n",
              "      display:flex;\n",
              "      gap: 12px;\n",
              "    }\n",
              "\n",
              "    .colab-df-convert {\n",
              "      background-color: #E8F0FE;\n",
              "      border: none;\n",
              "      border-radius: 50%;\n",
              "      cursor: pointer;\n",
              "      display: none;\n",
              "      fill: #1967D2;\n",
              "      height: 32px;\n",
              "      padding: 0 0 0 0;\n",
              "      width: 32px;\n",
              "    }\n",
              "\n",
              "    .colab-df-convert:hover {\n",
              "      background-color: #E2EBFA;\n",
              "      box-shadow: 0px 1px 2px rgba(60, 64, 67, 0.3), 0px 1px 3px 1px rgba(60, 64, 67, 0.15);\n",
              "      fill: #174EA6;\n",
              "    }\n",
              "\n",
              "    .colab-df-buttons div {\n",
              "      margin-bottom: 4px;\n",
              "    }\n",
              "\n",
              "    [theme=dark] .colab-df-convert {\n",
              "      background-color: #3B4455;\n",
              "      fill: #D2E3FC;\n",
              "    }\n",
              "\n",
              "    [theme=dark] .colab-df-convert:hover {\n",
              "      background-color: #434B5C;\n",
              "      box-shadow: 0px 1px 3px 1px rgba(0, 0, 0, 0.15);\n",
              "      filter: drop-shadow(0px 1px 2px rgba(0, 0, 0, 0.3));\n",
              "      fill: #FFFFFF;\n",
              "    }\n",
              "  </style>\n",
              "\n",
              "    <script>\n",
              "      const buttonEl =\n",
              "        document.querySelector('#df-240e4efe-bcd0-4339-9847-5e3df5da4182 button.colab-df-convert');\n",
              "      buttonEl.style.display =\n",
              "        google.colab.kernel.accessAllowed ? 'block' : 'none';\n",
              "\n",
              "      async function convertToInteractive(key) {\n",
              "        const element = document.querySelector('#df-240e4efe-bcd0-4339-9847-5e3df5da4182');\n",
              "        const dataTable =\n",
              "          await google.colab.kernel.invokeFunction('convertToInteractive',\n",
              "                                                    [key], {});\n",
              "        if (!dataTable) return;\n",
              "\n",
              "        const docLinkHtml = 'Like what you see? Visit the ' +\n",
              "          '<a target=\"_blank\" href=https://colab.research.google.com/notebooks/data_table.ipynb>data table notebook</a>'\n",
              "          + ' to learn more about interactive tables.';\n",
              "        element.innerHTML = '';\n",
              "        dataTable['output_type'] = 'display_data';\n",
              "        await google.colab.output.renderOutput(dataTable, element);\n",
              "        const docLink = document.createElement('div');\n",
              "        docLink.innerHTML = docLinkHtml;\n",
              "        element.appendChild(docLink);\n",
              "      }\n",
              "    </script>\n",
              "  </div>\n",
              "\n",
              "\n",
              "<div id=\"df-74ad33d8-b216-481e-a525-948e55bdd53c\">\n",
              "  <button class=\"colab-df-quickchart\" onclick=\"quickchart('df-74ad33d8-b216-481e-a525-948e55bdd53c')\"\n",
              "            title=\"Suggest charts\"\n",
              "            style=\"display:none;\">\n",
              "\n",
              "<svg xmlns=\"http://www.w3.org/2000/svg\" height=\"24px\"viewBox=\"0 0 24 24\"\n",
              "     width=\"24px\">\n",
              "    <g>\n",
              "        <path d=\"M19 3H5c-1.1 0-2 .9-2 2v14c0 1.1.9 2 2 2h14c1.1 0 2-.9 2-2V5c0-1.1-.9-2-2-2zM9 17H7v-7h2v7zm4 0h-2V7h2v10zm4 0h-2v-4h2v4z\"/>\n",
              "    </g>\n",
              "</svg>\n",
              "  </button>\n",
              "\n",
              "<style>\n",
              "  .colab-df-quickchart {\n",
              "      --bg-color: #E8F0FE;\n",
              "      --fill-color: #1967D2;\n",
              "      --hover-bg-color: #E2EBFA;\n",
              "      --hover-fill-color: #174EA6;\n",
              "      --disabled-fill-color: #AAA;\n",
              "      --disabled-bg-color: #DDD;\n",
              "  }\n",
              "\n",
              "  [theme=dark] .colab-df-quickchart {\n",
              "      --bg-color: #3B4455;\n",
              "      --fill-color: #D2E3FC;\n",
              "      --hover-bg-color: #434B5C;\n",
              "      --hover-fill-color: #FFFFFF;\n",
              "      --disabled-bg-color: #3B4455;\n",
              "      --disabled-fill-color: #666;\n",
              "  }\n",
              "\n",
              "  .colab-df-quickchart {\n",
              "    background-color: var(--bg-color);\n",
              "    border: none;\n",
              "    border-radius: 50%;\n",
              "    cursor: pointer;\n",
              "    display: none;\n",
              "    fill: var(--fill-color);\n",
              "    height: 32px;\n",
              "    padding: 0;\n",
              "    width: 32px;\n",
              "  }\n",
              "\n",
              "  .colab-df-quickchart:hover {\n",
              "    background-color: var(--hover-bg-color);\n",
              "    box-shadow: 0 1px 2px rgba(60, 64, 67, 0.3), 0 1px 3px 1px rgba(60, 64, 67, 0.15);\n",
              "    fill: var(--button-hover-fill-color);\n",
              "  }\n",
              "\n",
              "  .colab-df-quickchart-complete:disabled,\n",
              "  .colab-df-quickchart-complete:disabled:hover {\n",
              "    background-color: var(--disabled-bg-color);\n",
              "    fill: var(--disabled-fill-color);\n",
              "    box-shadow: none;\n",
              "  }\n",
              "\n",
              "  .colab-df-spinner {\n",
              "    border: 2px solid var(--fill-color);\n",
              "    border-color: transparent;\n",
              "    border-bottom-color: var(--fill-color);\n",
              "    animation:\n",
              "      spin 1s steps(1) infinite;\n",
              "  }\n",
              "\n",
              "  @keyframes spin {\n",
              "    0% {\n",
              "      border-color: transparent;\n",
              "      border-bottom-color: var(--fill-color);\n",
              "      border-left-color: var(--fill-color);\n",
              "    }\n",
              "    20% {\n",
              "      border-color: transparent;\n",
              "      border-left-color: var(--fill-color);\n",
              "      border-top-color: var(--fill-color);\n",
              "    }\n",
              "    30% {\n",
              "      border-color: transparent;\n",
              "      border-left-color: var(--fill-color);\n",
              "      border-top-color: var(--fill-color);\n",
              "      border-right-color: var(--fill-color);\n",
              "    }\n",
              "    40% {\n",
              "      border-color: transparent;\n",
              "      border-right-color: var(--fill-color);\n",
              "      border-top-color: var(--fill-color);\n",
              "    }\n",
              "    60% {\n",
              "      border-color: transparent;\n",
              "      border-right-color: var(--fill-color);\n",
              "    }\n",
              "    80% {\n",
              "      border-color: transparent;\n",
              "      border-right-color: var(--fill-color);\n",
              "      border-bottom-color: var(--fill-color);\n",
              "    }\n",
              "    90% {\n",
              "      border-color: transparent;\n",
              "      border-bottom-color: var(--fill-color);\n",
              "    }\n",
              "  }\n",
              "</style>\n",
              "\n",
              "  <script>\n",
              "    async function quickchart(key) {\n",
              "      const quickchartButtonEl =\n",
              "        document.querySelector('#' + key + ' button');\n",
              "      quickchartButtonEl.disabled = true;  // To prevent multiple clicks.\n",
              "      quickchartButtonEl.classList.add('colab-df-spinner');\n",
              "      try {\n",
              "        const charts = await google.colab.kernel.invokeFunction(\n",
              "            'suggestCharts', [key], {});\n",
              "      } catch (error) {\n",
              "        console.error('Error during call to suggestCharts:', error);\n",
              "      }\n",
              "      quickchartButtonEl.classList.remove('colab-df-spinner');\n",
              "      quickchartButtonEl.classList.add('colab-df-quickchart-complete');\n",
              "    }\n",
              "    (() => {\n",
              "      let quickchartButtonEl =\n",
              "        document.querySelector('#df-74ad33d8-b216-481e-a525-948e55bdd53c button');\n",
              "      quickchartButtonEl.style.display =\n",
              "        google.colab.kernel.accessAllowed ? 'block' : 'none';\n",
              "    })();\n",
              "  </script>\n",
              "</div>\n",
              "\n",
              "  <div id=\"id_8e880ae5-57bf-40d8-a5be-b41ca1c4bf2a\">\n",
              "    <style>\n",
              "      .colab-df-generate {\n",
              "        background-color: #E8F0FE;\n",
              "        border: none;\n",
              "        border-radius: 50%;\n",
              "        cursor: pointer;\n",
              "        display: none;\n",
              "        fill: #1967D2;\n",
              "        height: 32px;\n",
              "        padding: 0 0 0 0;\n",
              "        width: 32px;\n",
              "      }\n",
              "\n",
              "      .colab-df-generate:hover {\n",
              "        background-color: #E2EBFA;\n",
              "        box-shadow: 0px 1px 2px rgba(60, 64, 67, 0.3), 0px 1px 3px 1px rgba(60, 64, 67, 0.15);\n",
              "        fill: #174EA6;\n",
              "      }\n",
              "\n",
              "      [theme=dark] .colab-df-generate {\n",
              "        background-color: #3B4455;\n",
              "        fill: #D2E3FC;\n",
              "      }\n",
              "\n",
              "      [theme=dark] .colab-df-generate:hover {\n",
              "        background-color: #434B5C;\n",
              "        box-shadow: 0px 1px 3px 1px rgba(0, 0, 0, 0.15);\n",
              "        filter: drop-shadow(0px 1px 2px rgba(0, 0, 0, 0.3));\n",
              "        fill: #FFFFFF;\n",
              "      }\n",
              "    </style>\n",
              "    <button class=\"colab-df-generate\" onclick=\"generateWithVariable('data')\"\n",
              "            title=\"Generate code using this dataframe.\"\n",
              "            style=\"display:none;\">\n",
              "\n",
              "  <svg xmlns=\"http://www.w3.org/2000/svg\" height=\"24px\"viewBox=\"0 0 24 24\"\n",
              "       width=\"24px\">\n",
              "    <path d=\"M7,19H8.4L18.45,9,17,7.55,7,17.6ZM5,21V16.75L18.45,3.32a2,2,0,0,1,2.83,0l1.4,1.43a1.91,1.91,0,0,1,.58,1.4,1.91,1.91,0,0,1-.58,1.4L9.25,21ZM18.45,9,17,7.55Zm-12,3A5.31,5.31,0,0,0,4.9,8.1,5.31,5.31,0,0,0,1,6.5,5.31,5.31,0,0,0,4.9,4.9,5.31,5.31,0,0,0,6.5,1,5.31,5.31,0,0,0,8.1,4.9,5.31,5.31,0,0,0,12,6.5,5.46,5.46,0,0,0,6.5,12Z\"/>\n",
              "  </svg>\n",
              "    </button>\n",
              "    <script>\n",
              "      (() => {\n",
              "      const buttonEl =\n",
              "        document.querySelector('#id_8e880ae5-57bf-40d8-a5be-b41ca1c4bf2a button.colab-df-generate');\n",
              "      buttonEl.style.display =\n",
              "        google.colab.kernel.accessAllowed ? 'block' : 'none';\n",
              "\n",
              "      buttonEl.onclick = () => {\n",
              "        google.colab.notebook.generateWithVariable('data');\n",
              "      }\n",
              "      })();\n",
              "    </script>\n",
              "  </div>\n",
              "\n",
              "    </div>\n",
              "  </div>\n"
            ],
            "application/vnd.google.colaboratory.intrinsic+json": {
              "type": "dataframe",
              "variable_name": "data"
            }
          },
          "metadata": {},
          "execution_count": 42
        }
      ],
      "execution_count": null
    },
    {
      "cell_type": "markdown",
      "source": [
        "# Inference"
      ],
      "metadata": {
        "id": "bsMuA6lg0P8n"
      }
    },
    {
      "cell_type": "markdown",
      "source": [
        "## Assembler"
      ],
      "metadata": {
        "id": "9W5nUuQL0P8o"
      }
    },
    {
      "cell_type": "code",
      "source": [
        "from groq import Groq\n",
        "\n",
        "API_KEY = userdata.get('GROQ_API_KEY')\n",
        "\n",
        "MODEL_ID = \"gemma2-9b-it\"\n",
        "\n",
        "client = Groq(\n",
        "    api_key=API_KEY\n",
        ")\n",
        "\n",
        "def generate_sentence(base_word, groq_model, groq_client):\n",
        "  chat_completion = groq_client.chat.completions.create(\n",
        "      messages=[\n",
        "          {\n",
        "              \"role\": \"system\",\n",
        "              \"content\": \"You are a linguist that try to make a full coherent sentence out of list of basic words.\"\n",
        "          },\n",
        "          {\n",
        "              \"role\": \"user\",\n",
        "              \"content\": f\"\"\"Please create a full coherent sentence out of this words,\n",
        "                            the order of the word that appear in the sentence have to be in sequence just like how the word appeared in the list.\n",
        "                            Please just output the word without any other text. You can add punctuation to the generated sentence to make the sentence more natural.\n",
        "                            Here are the words: [{base_word}]\"\"\",\n",
        "          }\n",
        "      ],\n",
        "      model=groq_model,\n",
        "      temperature=0.8,\n",
        "      max_tokens=1024,\n",
        "      top_p=1,\n",
        "      stop=None,\n",
        "      stream=False,\n",
        "  )\n",
        "  return chat_completion.choices[0].message.content"
      ],
      "metadata": {
        "trusted": true,
        "id": "5gDHYiUf0P8p"
      },
      "outputs": [],
      "execution_count": null
    },
    {
      "cell_type": "markdown",
      "source": [
        "## Topic Classification"
      ],
      "metadata": {
        "id": "9V2eRwTp0P8p"
      }
    },
    {
      "cell_type": "code",
      "source": [
        "def predict_topic(text, model, tokenizer, max_length=128):\n",
        "    \"\"\"\n",
        "    Predict topic for a single text input\n",
        "\n",
        "    Args:\n",
        "        text (str): Input text to classify\n",
        "        model (BertForSequenceClassification): Trained BERT model\n",
        "        tokenizer (BertTokenizer): Tokenizer used during training\n",
        "        max_length (int): Maximum sequence length\n",
        "\n",
        "    Returns:\n",
        "        Predicted topic label (integer)\n",
        "    \"\"\"\n",
        "    model.eval()\n",
        "    device = torch.device('cuda' if torch.cuda.is_available() else 'cpu')\n",
        "    model.to(device)\n",
        "\n",
        "    # Encode the text\n",
        "    encoding = tokenizer.encode_plus(\n",
        "        text,\n",
        "        add_special_tokens=True,\n",
        "        max_length=max_length,\n",
        "        padding='max_length',\n",
        "        truncation=True,\n",
        "        return_tensors='pt'\n",
        "    )\n",
        "\n",
        "    input_ids = encoding['input_ids'].to(device)\n",
        "    attention_mask = encoding['attention_mask'].to(device)\n",
        "\n",
        "    with torch.no_grad():\n",
        "        outputs = model(input_ids, attention_mask=attention_mask)\n",
        "        logits = outputs.logits\n",
        "        prediction = torch.argmax(logits, dim=1)\n",
        "\n",
        "    categories = [\n",
        "    \"Society & Culture\",\n",
        "    \"Science & Mathematics\",\n",
        "    \"Health\",\n",
        "    \"Education & Reference\",\n",
        "    \"Computers & Internet\",\n",
        "    \"Sports\",\n",
        "    \"Business & Finance\",\n",
        "    \"Entertainment & Music\",\n",
        "    \"Family & Relationships\",\n",
        "    \"Politics & Government\"\n",
        "    ]\n",
        "    return categories[prediction.item()]"
      ],
      "metadata": {
        "trusted": true,
        "execution": {
          "iopub.status.busy": "2024-12-11T13:27:00.570311Z",
          "iopub.execute_input": "2024-12-11T13:27:00.570898Z",
          "iopub.status.idle": "2024-12-11T13:27:00.581036Z",
          "shell.execute_reply.started": "2024-12-11T13:27:00.570844Z",
          "shell.execute_reply": "2024-12-11T13:27:00.579619Z"
        },
        "id": "aCjnNNcZ0P8q"
      },
      "outputs": [],
      "execution_count": null
    },
    {
      "cell_type": "code",
      "source": [
        "save_topic_directory = DIR_PATH"
      ],
      "metadata": {
        "trusted": true,
        "execution": {
          "iopub.status.busy": "2024-12-11T13:25:29.551947Z",
          "iopub.execute_input": "2024-12-11T13:25:29.552843Z",
          "iopub.status.idle": "2024-12-11T13:25:29.557679Z",
          "shell.execute_reply.started": "2024-12-11T13:25:29.552797Z",
          "shell.execute_reply": "2024-12-11T13:25:29.556525Z"
        },
        "id": "RwqOV84i0P8r"
      },
      "outputs": [],
      "execution_count": null
    },
    {
      "cell_type": "code",
      "source": [
        "topic_model = BertForSequenceClassification.from_pretrained(save_topic_directory)\n",
        "topic_tokenizer = BertTokenizer.from_pretrained(save_topic_directory)"
      ],
      "metadata": {
        "trusted": true,
        "execution": {
          "iopub.status.busy": "2024-12-11T13:25:29.951706Z",
          "iopub.execute_input": "2024-12-11T13:25:29.952936Z",
          "iopub.status.idle": "2024-12-11T13:25:30.497962Z",
          "shell.execute_reply.started": "2024-12-11T13:25:29.952883Z",
          "shell.execute_reply": "2024-12-11T13:25:30.496601Z"
        },
        "id": "3hKm_V4t0P8s"
      },
      "outputs": [],
      "execution_count": null
    },
    {
      "cell_type": "code",
      "source": [
        "test_text = \"what makes friendship click\""
      ],
      "metadata": {
        "trusted": true,
        "execution": {
          "iopub.status.busy": "2024-12-11T13:29:57.535348Z",
          "iopub.execute_input": "2024-12-11T13:29:57.535796Z",
          "iopub.status.idle": "2024-12-11T13:29:57.541333Z",
          "shell.execute_reply.started": "2024-12-11T13:29:57.535756Z",
          "shell.execute_reply": "2024-12-11T13:29:57.540068Z"
        },
        "id": "kxtKq5yF0P8t"
      },
      "outputs": [],
      "execution_count": null
    },
    {
      "cell_type": "code",
      "source": [
        "predict_topic(test_text, topic_model, topic_tokenizer)"
      ],
      "metadata": {
        "trusted": true,
        "execution": {
          "iopub.status.busy": "2024-12-11T13:29:57.703863Z",
          "iopub.execute_input": "2024-12-11T13:29:57.704349Z",
          "iopub.status.idle": "2024-12-11T13:29:58.161411Z",
          "shell.execute_reply.started": "2024-12-11T13:29:57.704300Z",
          "shell.execute_reply": "2024-12-11T13:29:58.160484Z"
        },
        "id": "_GkTByKZ0P8u",
        "colab": {
          "base_uri": "https://localhost:8080/",
          "height": 36
        },
        "outputId": "61a19bce-83e0-417e-eeb4-25b7011e0ba5"
      },
      "outputs": [
        {
          "output_type": "execute_result",
          "data": {
            "text/plain": [
              "'Family & Relationships'"
            ],
            "application/vnd.google.colaboratory.intrinsic+json": {
              "type": "string"
            }
          },
          "metadata": {},
          "execution_count": 66
        }
      ],
      "execution_count": null
    },
    {
      "cell_type": "markdown",
      "source": [
        "## Intent Classification\n"
      ],
      "metadata": {
        "id": "BjNL3yWu1Iq8"
      }
    },
    {
      "cell_type": "code",
      "source": [
        "intent_classification_model = keras.models.load_model(\"cnn_model.keras\")"
      ],
      "metadata": {
        "id": "EzqGM58U1Ndc"
      },
      "execution_count": null,
      "outputs": []
    },
    {
      "cell_type": "code",
      "source": [
        "from tensorflow.keras.preprocessing.text import Tokenizer, tokenizer_from_json\n",
        "from tensorflow.keras.preprocessing.sequence import pad_sequences\n",
        "import json\n",
        "\n",
        "# Load the tokenizer from the JSON file\n",
        "with open('cnn_tokenizer.json', 'r') as json_file:\n",
        "    tokenizer_json = json.load(json_file)\n",
        "\n",
        "intent_tokenizer = tokenizer_from_json(tokenizer_json)\n",
        "\n",
        "\n",
        "def predict_intent(text, model, tokenizer, max_length=100):\n",
        "  label_map = {0: \"declarative\", 1: \"imperative\", 2: \"interrogative\"}\n",
        "  tokenized_text = tokenizer.texts_to_sequences([text])  # Pass the text in a list\n",
        "  padded_text = pad_sequences(tokenized_text, maxlen=max_length)\n",
        "  prediction = model.predict(padded_text)\n",
        "  predicted_class = np.argmax(prediction, axis=-1)[0]\n",
        "  predicted_label = label_map[predicted_class]\n",
        "  return predicted_label"
      ],
      "metadata": {
        "id": "G4Wt562i5wCg"
      },
      "execution_count": null,
      "outputs": []
    },
    {
      "cell_type": "code",
      "source": [
        "predict_intent(\"why is her dance so beautiful\", intent_classification_model, intent_tokenizer)"
      ],
      "metadata": {
        "colab": {
          "base_uri": "https://localhost:8080/",
          "height": 55
        },
        "id": "S9vIEbum5GPe",
        "outputId": "c32e9baf-d178-4b4e-ff58-2c350740f3ec"
      },
      "execution_count": null,
      "outputs": [
        {
          "output_type": "stream",
          "name": "stdout",
          "text": [
            "\u001b[1m1/1\u001b[0m \u001b[32m━━━━━━━━━━━━━━━━━━━━\u001b[0m\u001b[37m\u001b[0m \u001b[1m0s\u001b[0m 81ms/step\n"
          ]
        },
        {
          "output_type": "execute_result",
          "data": {
            "text/plain": [
              "'interrogative'"
            ],
            "application/vnd.google.colaboratory.intrinsic+json": {
              "type": "string"
            }
          },
          "metadata": {},
          "execution_count": 56
        }
      ]
    },
    {
      "cell_type": "markdown",
      "source": [
        "## Pipeline"
      ],
      "metadata": {
        "id": "Rjj_6mUB8I85"
      }
    },
    {
      "cell_type": "code",
      "source": [
        "def run_pipeline(base_words, groq_model, groq_client, topic_model, topic_tokenizer, intent_classification_model, intent_tokenizer):\n",
        "  sentence = generate_sentence(base_words, groq_model, groq_client)\n",
        "  print(\"Sentence:\", sentence)\n",
        "  topic = predict_topic(sentence, topic_model, topic_tokenizer)\n",
        "  print(\"Topic:\", topic)\n",
        "  intent = predict_intent(sentence, intent_classification_model, intent_tokenizer)\n",
        "  print(\"Intent:\", intent)\n",
        "  return"
      ],
      "metadata": {
        "id": "WOoyWIrO5UEs"
      },
      "execution_count": null,
      "outputs": []
    },
    {
      "cell_type": "code",
      "source": [
        "sample_data = df.sample(n=30, random_state=42)\n",
        "\n",
        "\n",
        "base_words = \"government decision bad citizen\"\n",
        "\n",
        "run_pipeline(base_words, MODEL_ID, client, topic_model, topic_tokenizer, intent_classification_model, intent_tokenizer)"
      ],
      "metadata": {
        "colab": {
          "base_uri": "https://localhost:8080/"
        },
        "id": "eu4UxT8YDCxK",
        "outputId": "4fa32380-da59-4dca-934b-c177be8b505d"
      },
      "execution_count": null,
      "outputs": [
        {
          "output_type": "stream",
          "name": "stdout",
          "text": [
            "Sentence: The government's decision is bad for citizens. \n",
            "\n",
            "Topic: Politics & Government\n",
            "\u001b[1m1/1\u001b[0m \u001b[32m━━━━━━━━━━━━━━━━━━━━\u001b[0m\u001b[37m\u001b[0m \u001b[1m0s\u001b[0m 26ms/step\n",
            "Intent: declarative\n"
          ]
        }
      ]
    }
  ]
}